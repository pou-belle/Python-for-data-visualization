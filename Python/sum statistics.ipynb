{
 "cells": [
  {
   "cell_type": "code",
   "execution_count": 2,
   "id": "2756bd6a",
   "metadata": {},
   "outputs": [],
   "source": [
    "import pandas_datareader.data as web"
   ]
  },
  {
   "cell_type": "code",
   "execution_count": 3,
   "id": "0d2c506a",
   "metadata": {},
   "outputs": [],
   "source": [
    "from pandas_datareader import data"
   ]
  },
  {
   "cell_type": "code",
   "execution_count": 4,
   "id": "363625f8",
   "metadata": {},
   "outputs": [],
   "source": [
    "import datetime"
   ]
  },
  {
   "cell_type": "code",
   "execution_count": 40,
   "id": "9e86ec0d",
   "metadata": {},
   "outputs": [],
   "source": [
    "prices =web.get_data_yahoo(['CVX','XOM','BP'],start=datetime.datetime(2010,1,1),end=datetime.datetime(2013,1,1)),['Adj Close']"
   ]
  },
  {
   "cell_type": "code",
   "execution_count": 6,
   "id": "c467fd1b",
   "metadata": {},
   "outputs": [],
   "source": [
    "volume=web.get_data_yahoo(['CVX','XOM','BP'],start=datetime.datetime(2010,1,1),end=datetime.datetime(2013,1,1)),['Volume']"
   ]
  },
  {
   "cell_type": "code",
   "execution_count": 8,
   "id": "a1df2870",
   "metadata": {},
   "outputs": [],
   "source": [
    "import numpy as np \n",
    "import pandas as pd \n",
    "from pandas import Series,DataFrame"
   ]
  },
  {
   "cell_type": "code",
   "execution_count": 46,
   "id": "891babaf",
   "metadata": {},
   "outputs": [
    {
     "ename": "AttributeError",
     "evalue": "'numpy.ndarray' object has no attribute 'pct_change'",
     "output_type": "error",
     "traceback": [
      "\u001b[0;31m---------------------------------------------------------------------------\u001b[0m",
      "\u001b[0;31mAttributeError\u001b[0m                            Traceback (most recent call last)",
      "\u001b[0;32m<ipython-input-46-4e3c6bc0048d>\u001b[0m in \u001b[0;36m<module>\u001b[0;34m\u001b[0m\n\u001b[0;32m----> 1\u001b[0;31m \u001b[0mrets\u001b[0m \u001b[0;34m=\u001b[0m  \u001b[0mprices\u001b[0m\u001b[0;34m.\u001b[0m\u001b[0mpct_change\u001b[0m\u001b[0;34m(\u001b[0m\u001b[0;34m)\u001b[0m\u001b[0;34m\u001b[0m\u001b[0;34m\u001b[0m\u001b[0m\n\u001b[0m",
      "\u001b[0;31mAttributeError\u001b[0m: 'numpy.ndarray' object has no attribute 'pct_change'"
     ]
    }
   ],
   "source": [
    "rets =  prices.pct_change()"
   ]
  },
  {
   "cell_type": "code",
   "execution_count": 45,
   "id": "8b259ffc",
   "metadata": {},
   "outputs": [],
   "source": [
    "prices=np.array(prices)"
   ]
  },
  {
   "cell_type": "code",
   "execution_count": null,
   "id": "af95adf7",
   "metadata": {},
   "outputs": [],
   "source": []
  },
  {
   "cell_type": "code",
   "execution_count": 14,
   "id": "5022b351",
   "metadata": {},
   "outputs": [
    {
     "data": {
      "text/plain": [
       "(Attributes  Adj Close                             Close                        \\\n",
       " Symbols           CVX        XOM         BP         CVX        XOM         BP   \n",
       " Date                                                                            \n",
       " 2010-01-04  49.534634  44.251194  31.377703   79.059998  69.150002  59.150002   \n",
       " 2010-01-05  49.885513  44.423962  31.600510   79.620003  69.419998  59.570000   \n",
       " 2010-01-06  49.891777  44.807934  31.764946   79.629997  70.019997  59.880001   \n",
       " 2010-01-07  49.703815  44.667164  31.754349   79.330002  69.800003  59.860001   \n",
       " 2010-01-08  49.791515  44.487976  31.828611   79.470001  69.519997  60.000000   \n",
       " ...               ...        ...        ...         ...        ...        ...   \n",
       " 2012-12-24  75.283806  59.964211  24.443893  108.629997  86.919998  41.720001   \n",
       " 2012-12-26  75.166008  60.067703  24.420464  108.459999  87.070000  41.680000   \n",
       " 2012-12-27  75.207596  59.922829  24.385303  108.519997  86.860001  41.619999   \n",
       " 2012-12-28  73.773010  58.708656  24.150946  106.449997  85.099998  41.220001   \n",
       " 2012-12-31  74.944244  59.708958  24.397020  108.139999  86.550003  41.639999   \n",
       " \n",
       " Attributes        High                               Low             \\\n",
       " Symbols            CVX        XOM         BP         CVX        XOM   \n",
       " Date                                                                  \n",
       " 2010-01-04   79.199997  69.260002  59.450001   78.160004  68.190002   \n",
       " 2010-01-05   79.620003  69.449997  59.900002   78.720001  68.800003   \n",
       " 2010-01-06   80.000000  70.599998  59.919998   79.190002  69.339996   \n",
       " 2010-01-07   79.699997  70.059998  60.000000   78.970001  69.419998   \n",
       " 2010-01-08   79.470001  69.750000  60.060001   78.889999  69.220001   \n",
       " ...                ...        ...        ...         ...        ...   \n",
       " 2012-12-24  109.389999  87.320000  41.990002  108.480003  86.800003   \n",
       " 2012-12-26  109.269997  87.680000  41.980000  108.209999  86.570000   \n",
       " 2012-12-27  108.860001  87.239998  41.849998  107.269997  85.750000   \n",
       " 2012-12-28  107.779999  86.290001  41.450001  106.300003  85.070000   \n",
       " 2012-12-31  108.230003  86.660004  41.740002  105.750000  84.699997   \n",
       " \n",
       " Attributes                   Open                            Volume  \\\n",
       " Symbols            BP         CVX        XOM         BP         CVX   \n",
       " Date                                                                  \n",
       " 2010-01-04  59.080002   78.199997  68.720001  59.299999  10173800.0   \n",
       " 2010-01-05  59.310001   79.220001  69.190002  59.650002  10593700.0   \n",
       " 2010-01-06  59.340000   79.440002  69.449997  59.520000  11014600.0   \n",
       " 2010-01-07  59.689999   79.360001  69.900002  59.919998   9626900.0   \n",
       " 2010-01-08  59.669998   79.120003  69.690002  59.790001   5624300.0   \n",
       " ...               ...         ...        ...        ...         ...   \n",
       " 2012-12-24  41.660000  109.300003  87.129997  41.880001   2284400.0   \n",
       " 2012-12-26  41.639999  109.099998  87.209999  41.779999   4094300.0   \n",
       " 2012-12-27  41.279999  108.459999  87.050003  41.810001   5525700.0   \n",
       " 2012-12-28  41.139999  107.680000  86.099998  41.189999   5277100.0   \n",
       " 2012-12-31  41.009998  105.750000  85.040001  41.240002   6554000.0   \n",
       " \n",
       " Attributes                         \n",
       " Symbols            XOM         BP  \n",
       " Date                               \n",
       " 2010-01-04  27809100.0  3956100.0  \n",
       " 2010-01-05  30174700.0  4109600.0  \n",
       " 2010-01-06  35044700.0  6227900.0  \n",
       " 2010-01-07  27192100.0  4431300.0  \n",
       " 2010-01-08  24891800.0  3786100.0  \n",
       " ...                ...        ...  \n",
       " 2012-12-24   6385200.0  2415200.0  \n",
       " 2012-12-26  10737800.0  2819800.0  \n",
       " 2012-12-27  14258500.0  4664200.0  \n",
       " 2012-12-28  13358700.0  4196000.0  \n",
       " 2012-12-31  19810800.0  6353800.0  \n",
       " \n",
       " [754 rows x 18 columns],\n",
       " ['Volume'])"
      ]
     },
     "execution_count": 14,
     "metadata": {},
     "output_type": "execute_result"
    }
   ],
   "source": [
    "volume"
   ]
  },
  {
   "cell_type": "code",
   "execution_count": 33,
   "id": "5da628fb",
   "metadata": {},
   "outputs": [
    {
     "data": {
      "text/html": [
       "<div>\n",
       "<style scoped>\n",
       "    .dataframe tbody tr th:only-of-type {\n",
       "        vertical-align: middle;\n",
       "    }\n",
       "\n",
       "    .dataframe tbody tr th {\n",
       "        vertical-align: top;\n",
       "    }\n",
       "\n",
       "    .dataframe thead tr th {\n",
       "        text-align: left;\n",
       "    }\n",
       "</style>\n",
       "<table border=\"1\" class=\"dataframe\">\n",
       "  <thead>\n",
       "    <tr>\n",
       "      <th>Attributes</th>\n",
       "      <th colspan=\"3\" halign=\"left\">Adj Close</th>\n",
       "      <th colspan=\"3\" halign=\"left\">Close</th>\n",
       "      <th colspan=\"3\" halign=\"left\">High</th>\n",
       "      <th colspan=\"3\" halign=\"left\">Low</th>\n",
       "      <th colspan=\"3\" halign=\"left\">Open</th>\n",
       "      <th colspan=\"3\" halign=\"left\">Volume</th>\n",
       "    </tr>\n",
       "    <tr>\n",
       "      <th>Symbols</th>\n",
       "      <th>CVX</th>\n",
       "      <th>XOM</th>\n",
       "      <th>BP</th>\n",
       "      <th>CVX</th>\n",
       "      <th>XOM</th>\n",
       "      <th>BP</th>\n",
       "      <th>CVX</th>\n",
       "      <th>XOM</th>\n",
       "      <th>BP</th>\n",
       "      <th>CVX</th>\n",
       "      <th>XOM</th>\n",
       "      <th>BP</th>\n",
       "      <th>CVX</th>\n",
       "      <th>XOM</th>\n",
       "      <th>BP</th>\n",
       "      <th>CVX</th>\n",
       "      <th>XOM</th>\n",
       "      <th>BP</th>\n",
       "    </tr>\n",
       "  </thead>\n",
       "  <tbody>\n",
       "    <tr>\n",
       "      <th>Adj Close</th>\n",
       "      <td>NaN</td>\n",
       "      <td>NaN</td>\n",
       "      <td>NaN</td>\n",
       "      <td>NaN</td>\n",
       "      <td>NaN</td>\n",
       "      <td>NaN</td>\n",
       "      <td>NaN</td>\n",
       "      <td>NaN</td>\n",
       "      <td>NaN</td>\n",
       "      <td>NaN</td>\n",
       "      <td>NaN</td>\n",
       "      <td>NaN</td>\n",
       "      <td>NaN</td>\n",
       "      <td>NaN</td>\n",
       "      <td>NaN</td>\n",
       "      <td>NaN</td>\n",
       "      <td>NaN</td>\n",
       "      <td>NaN</td>\n",
       "    </tr>\n",
       "  </tbody>\n",
       "</table>\n",
       "</div>"
      ],
      "text/plain": [
       "Attributes Adj Close         Close         High         Low         Open      \\\n",
       "Symbols          CVX XOM  BP   CVX XOM  BP  CVX XOM  BP CVX XOM  BP  CVX XOM   \n",
       "Adj Close        NaN NaN NaN   NaN NaN NaN  NaN NaN NaN NaN NaN NaN  NaN NaN   \n",
       "\n",
       "Attributes     Volume          \n",
       "Symbols     BP    CVX XOM  BP  \n",
       "Adj Close  NaN    NaN NaN NaN  "
      ]
     },
     "execution_count": 33,
     "metadata": {},
     "output_type": "execute_result"
    }
   ],
   "source": [
    "rets"
   ]
  },
  {
   "cell_type": "code",
   "execution_count": 42,
   "id": "9a885a7b",
   "metadata": {},
   "outputs": [],
   "source": [
    "corr =rets.corr"
   ]
  },
  {
   "cell_type": "code",
   "execution_count": 36,
   "id": "ac41a7f7",
   "metadata": {},
   "outputs": [
    {
     "data": {
      "text/plain": [
       "<AxesSubplot:>"
      ]
     },
     "execution_count": 36,
     "metadata": {},
     "output_type": "execute_result"
    },
    {
     "data": {
      "image/png": "[encoded data removed]",
      "text/plain": [
       "<Figure size 432x288 with 1 Axes>"
      ]
     },
     "metadata": {
      "needs_background": "light"
     },
     "output_type": "display_data"
    }
   ],
   "source": [
    "%matplotlib inline \n",
    "\n",
    "prices.plot()"
   ]
  },
  {
   "cell_type": "code",
   "execution_count": 41,
   "id": "a223e60c",
   "metadata": {},
   "outputs": [
    {
     "data": {
      "text/plain": [
       "(Attributes  Adj Close                             Close                        \\\n",
       " Symbols           CVX        XOM         BP         CVX        XOM         BP   \n",
       " Date                                                                            \n",
       " 2010-01-04  49.534622  44.251205  31.377707   79.059998  69.150002  59.150002   \n",
       " 2010-01-05  49.885506  44.423981  31.600508   79.620003  69.419998  59.570000   \n",
       " 2010-01-06  49.891769  44.807934  31.764957   79.629997  70.019997  59.880001   \n",
       " 2010-01-07  49.703804  44.667160  31.754349   79.330002  69.800003  59.860001   \n",
       " 2010-01-08  49.791519  44.487976  31.828609   79.470001  69.519997  60.000000   \n",
       " ...               ...        ...        ...         ...        ...        ...   \n",
       " 2012-12-24  75.283821  59.964214  24.443893  108.629997  86.919998  41.720001   \n",
       " 2012-12-26  75.166023  60.067703  24.420458  108.459999  87.070000  41.680000   \n",
       " 2012-12-27  75.207581  59.922810  24.385303  108.519997  86.860001  41.619999   \n",
       " 2012-12-28  73.773010  58.708656  24.150946  106.449997  85.099998  41.220001   \n",
       " 2012-12-31  74.944244  59.708961  24.397020  108.139999  86.550003  41.639999   \n",
       " \n",
       " Attributes        High                               Low             \\\n",
       " Symbols            CVX        XOM         BP         CVX        XOM   \n",
       " Date                                                                  \n",
       " 2010-01-04   79.199997  69.260002  59.450001   78.160004  68.190002   \n",
       " 2010-01-05   79.620003  69.449997  59.900002   78.720001  68.800003   \n",
       " 2010-01-06   80.000000  70.599998  59.919998   79.190002  69.339996   \n",
       " 2010-01-07   79.699997  70.059998  60.000000   78.970001  69.419998   \n",
       " 2010-01-08   79.470001  69.750000  60.060001   78.889999  69.220001   \n",
       " ...                ...        ...        ...         ...        ...   \n",
       " 2012-12-24  109.389999  87.320000  41.990002  108.480003  86.800003   \n",
       " 2012-12-26  109.269997  87.680000  41.980000  108.209999  86.570000   \n",
       " 2012-12-27  108.860001  87.239998  41.849998  107.269997  85.750000   \n",
       " 2012-12-28  107.779999  86.290001  41.450001  106.300003  85.070000   \n",
       " 2012-12-31  108.230003  86.660004  41.740002  105.750000  84.699997   \n",
       " \n",
       " Attributes                   Open                            Volume  \\\n",
       " Symbols            BP         CVX        XOM         BP         CVX   \n",
       " Date                                                                  \n",
       " 2010-01-04  59.080002   78.199997  68.720001  59.299999  10173800.0   \n",
       " 2010-01-05  59.310001   79.220001  69.190002  59.650002  10593700.0   \n",
       " 2010-01-06  59.340000   79.440002  69.449997  59.520000  11014600.0   \n",
       " 2010-01-07  59.689999   79.360001  69.900002  59.919998   9626900.0   \n",
       " 2010-01-08  59.669998   79.120003  69.690002  59.790001   5624300.0   \n",
       " ...               ...         ...        ...        ...         ...   \n",
       " 2012-12-24  41.660000  109.300003  87.129997  41.880001   2284400.0   \n",
       " 2012-12-26  41.639999  109.099998  87.209999  41.779999   4094300.0   \n",
       " 2012-12-27  41.279999  108.459999  87.050003  41.810001   5525700.0   \n",
       " 2012-12-28  41.139999  107.680000  86.099998  41.189999   5277100.0   \n",
       " 2012-12-31  41.009998  105.750000  85.040001  41.240002   6554000.0   \n",
       " \n",
       " Attributes                         \n",
       " Symbols            XOM         BP  \n",
       " Date                               \n",
       " 2010-01-04  27809100.0  3956100.0  \n",
       " 2010-01-05  30174700.0  4109600.0  \n",
       " 2010-01-06  35044700.0  6227900.0  \n",
       " 2010-01-07  27192100.0  4431300.0  \n",
       " 2010-01-08  24891800.0  3786100.0  \n",
       " ...                ...        ...  \n",
       " 2012-12-24   6385200.0  2415200.0  \n",
       " 2012-12-26  10737800.0  2819800.0  \n",
       " 2012-12-27  14258500.0  4664200.0  \n",
       " 2012-12-28  13358700.0  4196000.0  \n",
       " 2012-12-31  19810800.0  6353800.0  \n",
       " \n",
       " [754 rows x 18 columns],\n",
       " ['Adj Close'])"
      ]
     },
     "execution_count": 41,
     "metadata": {},
     "output_type": "execute_result"
    }
   ],
   "source": [
    "prices"
   ]
  },
  {
   "cell_type": "code",
   "execution_count": 47,
   "id": "27fe3c4c",
   "metadata": {},
   "outputs": [],
   "source": [
    "import seaborn as sns\n",
    "import matplotlib.pyplot as plt"
   ]
  },
  {
   "cell_type": "code",
   "execution_count": 48,
   "id": "772eefda",
   "metadata": {},
   "outputs": [
    {
     "ename": "AttributeError",
     "evalue": "module 'seaborn' has no attribute 'corrplot'",
     "output_type": "error",
     "traceback": [
      "\u001b[0;31m---------------------------------------------------------------------------\u001b[0m",
      "\u001b[0;31mAttributeError\u001b[0m                            Traceback (most recent call last)",
      "\u001b[0;32m<ipython-input-48-57d85eef8f12>\u001b[0m in \u001b[0;36m<module>\u001b[0;34m\u001b[0m\n\u001b[0;32m----> 1\u001b[0;31m \u001b[0msns\u001b[0m\u001b[0;34m.\u001b[0m\u001b[0mcorrplot\u001b[0m\u001b[0;34m(\u001b[0m\u001b[0mvolume\u001b[0m\u001b[0;34m,\u001b[0m\u001b[0mannot\u001b[0m\u001b[0;34m=\u001b[0m\u001b[0;32mFalse\u001b[0m\u001b[0;34m,\u001b[0m\u001b[0mdiag_names\u001b[0m\u001b[0;34m=\u001b[0m\u001b[0;32mFalse\u001b[0m\u001b[0;34m)\u001b[0m\u001b[0;34m\u001b[0m\u001b[0;34m\u001b[0m\u001b[0m\n\u001b[0m",
      "\u001b[0;31mAttributeError\u001b[0m: module 'seaborn' has no attribute 'corrplot'"
     ]
    }
   ],
   "source": [
    "sns.corrplot(volume,annot=False,diag_names=False)"
   ]
  },
  {
   "cell_type": "code",
   "execution_count": 53,
   "id": "d376ed15",
   "metadata": {},
   "outputs": [
    {
     "data": {
      "text/plain": [
       "0     111\n",
       "1     2.2\n",
       "2       3\n",
       "3      44\n",
       "4      21\n",
       "5     900\n",
       "6    1202\n",
       "dtype: object"
      ]
     },
     "execution_count": 53,
     "metadata": {},
     "output_type": "execute_result"
    }
   ],
   "source": [
    "ser1=Series(['111','2.2','3','44','21','900','1202'])\n",
    "\n",
    "ser1"
   ]
  },
  {
   "cell_type": "code",
   "execution_count": 55,
   "id": "053b4a09",
   "metadata": {
    "scrolled": true
   },
   "outputs": [
    {
     "data": {
      "text/plain": [
       "array(['111', '2.2', '3', '44', '21', '900', '1202'], dtype=object)"
      ]
     },
     "execution_count": 55,
     "metadata": {},
     "output_type": "execute_result"
    }
   ],
   "source": [
    "ser1.unique()"
   ]
  },
  {
   "cell_type": "code",
   "execution_count": 54,
   "id": "2e097117",
   "metadata": {
    "scrolled": true
   },
   "outputs": [
    {
     "ename": "TypeError",
     "evalue": "unsupported operand type(s) for /: 'str' and 'float'",
     "output_type": "error",
     "traceback": [
      "\u001b[0;31m---------------------------------------------------------------------------\u001b[0m",
      "\u001b[0;31mTypeError\u001b[0m                                 Traceback (most recent call last)",
      "\u001b[0;32m<ipython-input-54-bfa0d9e1ee3c>\u001b[0m in \u001b[0;36m<module>\u001b[0;34m\u001b[0m\n\u001b[0;32m----> 1\u001b[0;31m \u001b[0mser1\u001b[0m\u001b[0;34m.\u001b[0m\u001b[0mpct_change\u001b[0m\u001b[0;34m(\u001b[0m\u001b[0;34m)\u001b[0m\u001b[0;34m\u001b[0m\u001b[0;34m\u001b[0m\u001b[0m\n\u001b[0m",
      "\u001b[0;32m~/opt/anaconda3/lib/python3.8/site-packages/pandas/core/generic.py\u001b[0m in \u001b[0;36mpct_change\u001b[0;34m(self, periods, fill_method, limit, freq, **kwargs)\u001b[0m\n\u001b[1;32m  10543\u001b[0m             \u001b[0mdata\u001b[0m \u001b[0;34m=\u001b[0m \u001b[0m_data\u001b[0m\u001b[0;34m\u001b[0m\u001b[0;34m\u001b[0m\u001b[0m\n\u001b[1;32m  10544\u001b[0m \u001b[0;34m\u001b[0m\u001b[0m\n\u001b[0;32m> 10545\u001b[0;31m         \u001b[0mrs\u001b[0m \u001b[0;34m=\u001b[0m \u001b[0mdata\u001b[0m\u001b[0;34m.\u001b[0m\u001b[0mdiv\u001b[0m\u001b[0;34m(\u001b[0m\u001b[0mdata\u001b[0m\u001b[0;34m.\u001b[0m\u001b[0mshift\u001b[0m\u001b[0;34m(\u001b[0m\u001b[0mperiods\u001b[0m\u001b[0;34m=\u001b[0m\u001b[0mperiods\u001b[0m\u001b[0;34m,\u001b[0m \u001b[0mfreq\u001b[0m\u001b[0;34m=\u001b[0m\u001b[0mfreq\u001b[0m\u001b[0;34m,\u001b[0m \u001b[0maxis\u001b[0m\u001b[0;34m=\u001b[0m\u001b[0maxis\u001b[0m\u001b[0;34m,\u001b[0m \u001b[0;34m**\u001b[0m\u001b[0mkwargs\u001b[0m\u001b[0;34m)\u001b[0m\u001b[0;34m)\u001b[0m \u001b[0;34m-\u001b[0m \u001b[0;36m1\u001b[0m\u001b[0;34m\u001b[0m\u001b[0;34m\u001b[0m\u001b[0m\n\u001b[0m\u001b[1;32m  10546\u001b[0m         \u001b[0;32mif\u001b[0m \u001b[0mfreq\u001b[0m \u001b[0;32mis\u001b[0m \u001b[0;32mnot\u001b[0m \u001b[0;32mNone\u001b[0m\u001b[0;34m:\u001b[0m\u001b[0;34m\u001b[0m\u001b[0;34m\u001b[0m\u001b[0m\n\u001b[1;32m  10547\u001b[0m             \u001b[0;31m# Shift method is implemented differently when freq is not None\u001b[0m\u001b[0;34m\u001b[0m\u001b[0;34m\u001b[0m\u001b[0;34m\u001b[0m\u001b[0m\n",
      "\u001b[0;32m~/opt/anaconda3/lib/python3.8/site-packages/pandas/core/ops/__init__.py\u001b[0m in \u001b[0;36mflex_wrapper\u001b[0;34m(self, other, level, fill_value, axis)\u001b[0m\n\u001b[1;32m    163\u001b[0m \u001b[0;34m\u001b[0m\u001b[0m\n\u001b[1;32m    164\u001b[0m         \u001b[0;32mif\u001b[0m \u001b[0misinstance\u001b[0m\u001b[0;34m(\u001b[0m\u001b[0mother\u001b[0m\u001b[0;34m,\u001b[0m \u001b[0mABCSeries\u001b[0m\u001b[0;34m)\u001b[0m\u001b[0;34m:\u001b[0m\u001b[0;34m\u001b[0m\u001b[0;34m\u001b[0m\u001b[0m\n\u001b[0;32m--> 165\u001b[0;31m             \u001b[0;32mreturn\u001b[0m \u001b[0mself\u001b[0m\u001b[0;34m.\u001b[0m\u001b[0m_binop\u001b[0m\u001b[0;34m(\u001b[0m\u001b[0mother\u001b[0m\u001b[0;34m,\u001b[0m \u001b[0mop\u001b[0m\u001b[0;34m,\u001b[0m \u001b[0mlevel\u001b[0m\u001b[0;34m=\u001b[0m\u001b[0mlevel\u001b[0m\u001b[0;34m,\u001b[0m \u001b[0mfill_value\u001b[0m\u001b[0;34m=\u001b[0m\u001b[0mfill_value\u001b[0m\u001b[0;34m)\u001b[0m\u001b[0;34m\u001b[0m\u001b[0;34m\u001b[0m\u001b[0m\n\u001b[0m\u001b[1;32m    166\u001b[0m         \u001b[0;32melif\u001b[0m \u001b[0misinstance\u001b[0m\u001b[0;34m(\u001b[0m\u001b[0mother\u001b[0m\u001b[0;34m,\u001b[0m \u001b[0;34m(\u001b[0m\u001b[0mnp\u001b[0m\u001b[0;34m.\u001b[0m\u001b[0mndarray\u001b[0m\u001b[0;34m,\u001b[0m \u001b[0mlist\u001b[0m\u001b[0;34m,\u001b[0m \u001b[0mtuple\u001b[0m\u001b[0;34m)\u001b[0m\u001b[0;34m)\u001b[0m\u001b[0;34m:\u001b[0m\u001b[0;34m\u001b[0m\u001b[0;34m\u001b[0m\u001b[0m\n\u001b[1;32m    167\u001b[0m             \u001b[0;32mif\u001b[0m \u001b[0mlen\u001b[0m\u001b[0;34m(\u001b[0m\u001b[0mother\u001b[0m\u001b[0;34m)\u001b[0m \u001b[0;34m!=\u001b[0m \u001b[0mlen\u001b[0m\u001b[0;34m(\u001b[0m\u001b[0mself\u001b[0m\u001b[0;34m)\u001b[0m\u001b[0;34m:\u001b[0m\u001b[0;34m\u001b[0m\u001b[0;34m\u001b[0m\u001b[0m\n",
      "\u001b[0;32m~/opt/anaconda3/lib/python3.8/site-packages/pandas/core/series.py\u001b[0m in \u001b[0;36m_binop\u001b[0;34m(self, other, func, level, fill_value)\u001b[0m\n\u001b[1;32m   2726\u001b[0m \u001b[0;34m\u001b[0m\u001b[0m\n\u001b[1;32m   2727\u001b[0m         \u001b[0;32mwith\u001b[0m \u001b[0mnp\u001b[0m\u001b[0;34m.\u001b[0m\u001b[0merrstate\u001b[0m\u001b[0;34m(\u001b[0m\u001b[0mall\u001b[0m\u001b[0;34m=\u001b[0m\u001b[0;34m\"ignore\"\u001b[0m\u001b[0;34m)\u001b[0m\u001b[0;34m:\u001b[0m\u001b[0;34m\u001b[0m\u001b[0;34m\u001b[0m\u001b[0m\n\u001b[0;32m-> 2728\u001b[0;31m             \u001b[0mresult\u001b[0m \u001b[0;34m=\u001b[0m \u001b[0mfunc\u001b[0m\u001b[0;34m(\u001b[0m\u001b[0mthis_vals\u001b[0m\u001b[0;34m,\u001b[0m \u001b[0mother_vals\u001b[0m\u001b[0;34m)\u001b[0m\u001b[0;34m\u001b[0m\u001b[0;34m\u001b[0m\u001b[0m\n\u001b[0m\u001b[1;32m   2729\u001b[0m \u001b[0;34m\u001b[0m\u001b[0m\n\u001b[1;32m   2730\u001b[0m         \u001b[0mname\u001b[0m \u001b[0;34m=\u001b[0m \u001b[0mops\u001b[0m\u001b[0;34m.\u001b[0m\u001b[0mget_op_result_name\u001b[0m\u001b[0;34m(\u001b[0m\u001b[0mself\u001b[0m\u001b[0;34m,\u001b[0m \u001b[0mother\u001b[0m\u001b[0;34m)\u001b[0m\u001b[0;34m\u001b[0m\u001b[0;34m\u001b[0m\u001b[0m\n",
      "\u001b[0;31mTypeError\u001b[0m: unsupported operand type(s) for /: 'str' and 'float'"
     ]
    }
   ],
   "source": []
  },
  {
   "cell_type": "code",
   "execution_count": null,
   "id": "e6058e77",
   "metadata": {},
   "outputs": [],
   "source": []
  },
  {
   "cell_type": "code",
   "execution_count": null,
   "id": "301d4caa",
   "metadata": {},
   "outputs": [],
   "source": []
  }
 ],
 "metadata": {
  "kernelspec": {
   "display_name": "Python 3",
   "language": "python",
   "name": "python3"
  },
  "language_info": {
   "codemirror_mode": {
    "name": "ipython",
    "version": 3
   },
   "file_extension": ".py",
   "mimetype": "text/x-python",
   "name": "python",
   "nbconvert_exporter": "python",
   "pygments_lexer": "ipython3",
   "version": "3.8.8"
  }
 },
 "nbformat": 4,
 "nbformat_minor": 5
}
