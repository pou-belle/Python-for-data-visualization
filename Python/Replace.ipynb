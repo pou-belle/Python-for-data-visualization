{
 "cells": [
  {
   "cell_type": "code",
   "execution_count": 2,
   "id": "7bd12ba7",
   "metadata": {},
   "outputs": [],
   "source": [
    "import numpy as np \n",
    "import pandas as pd \n",
    "from pandas import Series,DataFrame"
   ]
  },
  {
   "cell_type": "code",
   "execution_count": 3,
   "id": "274ba0e5",
   "metadata": {},
   "outputs": [],
   "source": [
    "ser1 = Series([1,2,3,4,1,2,3,4])"
   ]
  },
  {
   "cell_type": "code",
   "execution_count": 4,
   "id": "0f0af527",
   "metadata": {},
   "outputs": [
    {
     "data": {
      "text/plain": [
       "0    1\n",
       "1    2\n",
       "2    3\n",
       "3    4\n",
       "4    1\n",
       "5    2\n",
       "6    3\n",
       "7    4\n",
       "dtype: int64"
      ]
     },
     "execution_count": 4,
     "metadata": {},
     "output_type": "execute_result"
    }
   ],
   "source": [
    "ser1"
   ]
  },
  {
   "cell_type": "code",
   "execution_count": 5,
   "id": "5f010a21",
   "metadata": {},
   "outputs": [
    {
     "data": {
      "text/plain": [
       "0    apple\n",
       "1        2\n",
       "2        3\n",
       "3        4\n",
       "4    apple\n",
       "5        2\n",
       "6        3\n",
       "7        4\n",
       "dtype: object"
      ]
     },
     "execution_count": 5,
     "metadata": {},
     "output_type": "execute_result"
    }
   ],
   "source": [
    "ser1.replace(1,\"apple\")"
   ]
  },
  {
   "cell_type": "code",
   "execution_count": 6,
   "id": "a45b7261",
   "metadata": {},
   "outputs": [
    {
     "data": {
      "text/plain": [
       "0    300\n",
       "1      2\n",
       "2      3\n",
       "3    700\n",
       "4    300\n",
       "5      2\n",
       "6      3\n",
       "7    700\n",
       "dtype: int64"
      ]
     },
     "execution_count": 6,
     "metadata": {},
     "output_type": "execute_result"
    }
   ],
   "source": [
    "ser1.replace([1,4],[300,700])"
   ]
  },
  {
   "cell_type": "code",
   "execution_count": 7,
   "id": "99f96414",
   "metadata": {},
   "outputs": [
    {
     "data": {
      "text/plain": [
       "0    1.0\n",
       "1    2.0\n",
       "2    3.0\n",
       "3    NaN\n",
       "4    1.0\n",
       "5    2.0\n",
       "6    3.0\n",
       "7    NaN\n",
       "dtype: float64"
      ]
     },
     "execution_count": 7,
     "metadata": {},
     "output_type": "execute_result"
    }
   ],
   "source": [
    "ser1.replace({4:np.nan})"
   ]
  }
 ],
 "metadata": {
  "kernelspec": {
   "display_name": "Python 3",
   "language": "python",
   "name": "python3"
  },
  "language_info": {
   "codemirror_mode": {
    "name": "ipython",
    "version": 3
   },
   "file_extension": ".py",
   "mimetype": "text/x-python",
   "name": "python",
   "nbconvert_exporter": "python",
   "pygments_lexer": "ipython3",
   "version": "3.8.8"
  }
 },
 "nbformat": 4,
 "nbformat_minor": 5
}
