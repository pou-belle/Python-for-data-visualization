{
 "cells": [
  {
   "cell_type": "code",
   "execution_count": 2,
   "id": "c7f5e20e",
   "metadata": {},
   "outputs": [],
   "source": [
    "import numpy as np \n",
    "import pandas as pd \n",
    "from pandas import Series,DataFrame"
   ]
  },
  {
   "cell_type": "code",
   "execution_count": 4,
   "id": "d1ce3811",
   "metadata": {},
   "outputs": [],
   "source": [
    "arr=np.array([[1,2,np.nan],[np.nan,3,4]])"
   ]
  },
  {
   "cell_type": "code",
   "execution_count": 5,
   "id": "e67dced8",
   "metadata": {},
   "outputs": [],
   "source": [
    "dframe1=DataFrame(arr,index=['A','B'],columns=['One','two','three'])"
   ]
  },
  {
   "cell_type": "code",
   "execution_count": 6,
   "id": "c4668c04",
   "metadata": {},
   "outputs": [
    {
     "data": {
      "text/html": [
       "<div>\n",
       "<style scoped>\n",
       "    .dataframe tbody tr th:only-of-type {\n",
       "        vertical-align: middle;\n",
       "    }\n",
       "\n",
       "    .dataframe tbody tr th {\n",
       "        vertical-align: top;\n",
       "    }\n",
       "\n",
       "    .dataframe thead th {\n",
       "        text-align: right;\n",
       "    }\n",
       "</style>\n",
       "<table border=\"1\" class=\"dataframe\">\n",
       "  <thead>\n",
       "    <tr style=\"text-align: right;\">\n",
       "      <th></th>\n",
       "      <th>One</th>\n",
       "      <th>two</th>\n",
       "      <th>three</th>\n",
       "    </tr>\n",
       "  </thead>\n",
       "  <tbody>\n",
       "    <tr>\n",
       "      <th>A</th>\n",
       "      <td>1.0</td>\n",
       "      <td>2.0</td>\n",
       "      <td>NaN</td>\n",
       "    </tr>\n",
       "    <tr>\n",
       "      <th>B</th>\n",
       "      <td>NaN</td>\n",
       "      <td>3.0</td>\n",
       "      <td>4.0</td>\n",
       "    </tr>\n",
       "  </tbody>\n",
       "</table>\n",
       "</div>"
      ],
      "text/plain": [
       "   One  two  three\n",
       "A  1.0  2.0    NaN\n",
       "B  NaN  3.0    4.0"
      ]
     },
     "execution_count": 6,
     "metadata": {},
     "output_type": "execute_result"
    }
   ],
   "source": [
    "dframe1"
   ]
  },
  {
   "cell_type": "code",
   "execution_count": 7,
   "id": "c407ddbf",
   "metadata": {},
   "outputs": [
    {
     "data": {
      "text/plain": [
       "One      1.0\n",
       "two      5.0\n",
       "three    4.0\n",
       "dtype: float64"
      ]
     },
     "execution_count": 7,
     "metadata": {},
     "output_type": "execute_result"
    }
   ],
   "source": [
    "dframe1.sum()"
   ]
  },
  {
   "cell_type": "code",
   "execution_count": 47,
   "id": "9f025dd8",
   "metadata": {},
   "outputs": [
    {
     "data": {
      "text/plain": [
       "A    3.0\n",
       "B    7.0\n",
       "dtype: float64"
      ]
     },
     "execution_count": 47,
     "metadata": {},
     "output_type": "execute_result"
    }
   ],
   "source": [
    "dframe1.sum(axis=1)"
   ]
  },
  {
   "cell_type": "code",
   "execution_count": 48,
   "id": "b63a879c",
   "metadata": {},
   "outputs": [
    {
     "data": {
      "text/plain": [
       "One      1.0\n",
       "two      2.0\n",
       "three    4.0\n",
       "dtype: float64"
      ]
     },
     "execution_count": 48,
     "metadata": {},
     "output_type": "execute_result"
    }
   ],
   "source": [
    "dframe1.min()"
   ]
  },
  {
   "cell_type": "code",
   "execution_count": 49,
   "id": "8aab931f",
   "metadata": {},
   "outputs": [
    {
     "data": {
      "text/plain": [
       "One      A\n",
       "two      A\n",
       "three    B\n",
       "dtype: object"
      ]
     },
     "execution_count": 49,
     "metadata": {},
     "output_type": "execute_result"
    }
   ],
   "source": [
    "dframe1.idxmin()"
   ]
  },
  {
   "cell_type": "code",
   "execution_count": 50,
   "id": "e25bf548",
   "metadata": {},
   "outputs": [
    {
     "data": {
      "text/html": [
       "<div>\n",
       "<style scoped>\n",
       "    .dataframe tbody tr th:only-of-type {\n",
       "        vertical-align: middle;\n",
       "    }\n",
       "\n",
       "    .dataframe tbody tr th {\n",
       "        vertical-align: top;\n",
       "    }\n",
       "\n",
       "    .dataframe thead th {\n",
       "        text-align: right;\n",
       "    }\n",
       "</style>\n",
       "<table border=\"1\" class=\"dataframe\">\n",
       "  <thead>\n",
       "    <tr style=\"text-align: right;\">\n",
       "      <th></th>\n",
       "      <th>One</th>\n",
       "      <th>two</th>\n",
       "      <th>three</th>\n",
       "    </tr>\n",
       "  </thead>\n",
       "  <tbody>\n",
       "    <tr>\n",
       "      <th>A</th>\n",
       "      <td>1.0</td>\n",
       "      <td>2.0</td>\n",
       "      <td>NaN</td>\n",
       "    </tr>\n",
       "    <tr>\n",
       "      <th>B</th>\n",
       "      <td>NaN</td>\n",
       "      <td>3.0</td>\n",
       "      <td>4.0</td>\n",
       "    </tr>\n",
       "  </tbody>\n",
       "</table>\n",
       "</div>"
      ],
      "text/plain": [
       "   One  two  three\n",
       "A  1.0  2.0    NaN\n",
       "B  NaN  3.0    4.0"
      ]
     },
     "execution_count": 50,
     "metadata": {},
     "output_type": "execute_result"
    }
   ],
   "source": [
    "dframe1"
   ]
  },
  {
   "cell_type": "code",
   "execution_count": 51,
   "id": "b94dc279",
   "metadata": {},
   "outputs": [
    {
     "data": {
      "text/html": [
       "<div>\n",
       "<style scoped>\n",
       "    .dataframe tbody tr th:only-of-type {\n",
       "        vertical-align: middle;\n",
       "    }\n",
       "\n",
       "    .dataframe tbody tr th {\n",
       "        vertical-align: top;\n",
       "    }\n",
       "\n",
       "    .dataframe thead th {\n",
       "        text-align: right;\n",
       "    }\n",
       "</style>\n",
       "<table border=\"1\" class=\"dataframe\">\n",
       "  <thead>\n",
       "    <tr style=\"text-align: right;\">\n",
       "      <th></th>\n",
       "      <th>One</th>\n",
       "      <th>two</th>\n",
       "      <th>three</th>\n",
       "    </tr>\n",
       "  </thead>\n",
       "  <tbody>\n",
       "    <tr>\n",
       "      <th>A</th>\n",
       "      <td>1.0</td>\n",
       "      <td>2.0</td>\n",
       "      <td>NaN</td>\n",
       "    </tr>\n",
       "    <tr>\n",
       "      <th>B</th>\n",
       "      <td>NaN</td>\n",
       "      <td>5.0</td>\n",
       "      <td>4.0</td>\n",
       "    </tr>\n",
       "  </tbody>\n",
       "</table>\n",
       "</div>"
      ],
      "text/plain": [
       "   One  two  three\n",
       "A  1.0  2.0    NaN\n",
       "B  NaN  5.0    4.0"
      ]
     },
     "execution_count": 51,
     "metadata": {},
     "output_type": "execute_result"
    }
   ],
   "source": [
    "dframe1.cumsum()"
   ]
  },
  {
   "cell_type": "code",
   "execution_count": 52,
   "id": "81848578",
   "metadata": {},
   "outputs": [
    {
     "data": {
      "text/html": [
       "<div>\n",
       "<style scoped>\n",
       "    .dataframe tbody tr th:only-of-type {\n",
       "        vertical-align: middle;\n",
       "    }\n",
       "\n",
       "    .dataframe tbody tr th {\n",
       "        vertical-align: top;\n",
       "    }\n",
       "\n",
       "    .dataframe thead th {\n",
       "        text-align: right;\n",
       "    }\n",
       "</style>\n",
       "<table border=\"1\" class=\"dataframe\">\n",
       "  <thead>\n",
       "    <tr style=\"text-align: right;\">\n",
       "      <th></th>\n",
       "      <th>One</th>\n",
       "      <th>two</th>\n",
       "      <th>three</th>\n",
       "    </tr>\n",
       "  </thead>\n",
       "  <tbody>\n",
       "    <tr>\n",
       "      <th>count</th>\n",
       "      <td>1.0</td>\n",
       "      <td>2.000000</td>\n",
       "      <td>1.0</td>\n",
       "    </tr>\n",
       "    <tr>\n",
       "      <th>mean</th>\n",
       "      <td>1.0</td>\n",
       "      <td>2.500000</td>\n",
       "      <td>4.0</td>\n",
       "    </tr>\n",
       "    <tr>\n",
       "      <th>std</th>\n",
       "      <td>NaN</td>\n",
       "      <td>0.707107</td>\n",
       "      <td>NaN</td>\n",
       "    </tr>\n",
       "    <tr>\n",
       "      <th>min</th>\n",
       "      <td>1.0</td>\n",
       "      <td>2.000000</td>\n",
       "      <td>4.0</td>\n",
       "    </tr>\n",
       "    <tr>\n",
       "      <th>25%</th>\n",
       "      <td>1.0</td>\n",
       "      <td>2.250000</td>\n",
       "      <td>4.0</td>\n",
       "    </tr>\n",
       "    <tr>\n",
       "      <th>50%</th>\n",
       "      <td>1.0</td>\n",
       "      <td>2.500000</td>\n",
       "      <td>4.0</td>\n",
       "    </tr>\n",
       "    <tr>\n",
       "      <th>75%</th>\n",
       "      <td>1.0</td>\n",
       "      <td>2.750000</td>\n",
       "      <td>4.0</td>\n",
       "    </tr>\n",
       "    <tr>\n",
       "      <th>max</th>\n",
       "      <td>1.0</td>\n",
       "      <td>3.000000</td>\n",
       "      <td>4.0</td>\n",
       "    </tr>\n",
       "  </tbody>\n",
       "</table>\n",
       "</div>"
      ],
      "text/plain": [
       "       One       two  three\n",
       "count  1.0  2.000000    1.0\n",
       "mean   1.0  2.500000    4.0\n",
       "std    NaN  0.707107    NaN\n",
       "min    1.0  2.000000    4.0\n",
       "25%    1.0  2.250000    4.0\n",
       "50%    1.0  2.500000    4.0\n",
       "75%    1.0  2.750000    4.0\n",
       "max    1.0  3.000000    4.0"
      ]
     },
     "execution_count": 52,
     "metadata": {},
     "output_type": "execute_result"
    }
   ],
   "source": [
    "dframe1.describe()"
   ]
  },
  {
   "cell_type": "code",
   "execution_count": 53,
   "id": "51085351",
   "metadata": {},
   "outputs": [
    {
     "ename": "ImportError",
     "evalue": "cannot import name 'YoutubeVideo' from 'IPython.display' (/Users/markella/opt/anaconda3/lib/python3.8/site-packages/IPython/display.py)",
     "output_type": "error",
     "traceback": [
      "\u001b[0;31m---------------------------------------------------------------------------\u001b[0m",
      "\u001b[0;31mImportError\u001b[0m                               Traceback (most recent call last)",
      "\u001b[0;32m<ipython-input-53-953d54176c3a>\u001b[0m in \u001b[0;36m<module>\u001b[0;34m\u001b[0m\n\u001b[0;32m----> 1\u001b[0;31m \u001b[0;32mfrom\u001b[0m \u001b[0mIPython\u001b[0m\u001b[0;34m.\u001b[0m\u001b[0mdisplay\u001b[0m \u001b[0;32mimport\u001b[0m \u001b[0mYoutubeVideo\u001b[0m\u001b[0;34m\u001b[0m\u001b[0;34m\u001b[0m\u001b[0m\n\u001b[0m",
      "\u001b[0;31mImportError\u001b[0m: cannot import name 'YoutubeVideo' from 'IPython.display' (/Users/markella/opt/anaconda3/lib/python3.8/site-packages/IPython/display.py)"
     ]
    }
   ],
   "source": [
    "from IPython.display import YoutubeVideo "
   ]
  },
  {
   "cell_type": "code",
   "execution_count": 54,
   "id": "8b3aaae5",
   "metadata": {},
   "outputs": [
    {
     "ename": "ModuleNotFoundError",
     "evalue": "No module named 'pandas.io.data'",
     "output_type": "error",
     "traceback": [
      "\u001b[0;31m---------------------------------------------------------------------------\u001b[0m",
      "\u001b[0;31mModuleNotFoundError\u001b[0m                       Traceback (most recent call last)",
      "\u001b[0;32m<ipython-input-54-ee17bf5c2c0d>\u001b[0m in \u001b[0;36m<module>\u001b[0;34m\u001b[0m\n\u001b[0;32m----> 1\u001b[0;31m \u001b[0;32mfrom\u001b[0m \u001b[0mpandas\u001b[0m\u001b[0;34m.\u001b[0m\u001b[0mio\u001b[0m\u001b[0;34m.\u001b[0m\u001b[0mdata\u001b[0m \u001b[0;32mimport\u001b[0m \u001b[0mdata\u001b[0m\u001b[0;34m,\u001b[0m\u001b[0mwd\u001b[0m\u001b[0;34m\u001b[0m\u001b[0;34m\u001b[0m\u001b[0m\n\u001b[0m",
      "\u001b[0;31mModuleNotFoundError\u001b[0m: No module named 'pandas.io.data'"
     ]
    }
   ],
   "source": [
    "from pandas.io.data import data,wd"
   ]
  },
  {
   "cell_type": "code",
   "execution_count": 55,
   "id": "d4e2a7fa",
   "metadata": {},
   "outputs": [],
   "source": [
    "import pandas_datareader.data as web\n"
   ]
  },
  {
   "cell_type": "code",
   "execution_count": 56,
   "id": "e56162f5",
   "metadata": {},
   "outputs": [],
   "source": [
    "from pandas_datareader import data"
   ]
  },
  {
   "cell_type": "code",
   "execution_count": 57,
   "id": "d3793a37",
   "metadata": {},
   "outputs": [],
   "source": [
    "import datetime"
   ]
  },
  {
   "cell_type": "code",
   "execution_count": 58,
   "id": "2f9b6c0e",
   "metadata": {},
   "outputs": [],
   "source": [
    "prices =web.get_data_yahoo(['CVX','XOM','BP'],start=datetime.datetime(2010,1,1),end=datetime.datetime(2013,1,1)),['Adj Close']"
   ]
  },
  {
   "cell_type": "code",
   "execution_count": 36,
   "id": "55110165",
   "metadata": {},
   "outputs": [
    {
     "data": {
      "text/plain": [
       "(Attributes  Adj Close                             Close                        \\\n",
       " Symbols           CVX        XOM         BP         CVX        XOM         BP   \n",
       " Date                                                                            \n",
       " 2010-01-04  49.534626  44.251209  31.377701   79.059998  69.150002  59.150002   \n",
       " 2010-01-05  49.885490  44.423992  31.600506   79.620003  69.419998  59.570000   \n",
       " 2010-01-06  49.891754  44.807919  31.764961   79.629997  70.019997  59.880001   \n",
       " 2010-01-07  49.703812  44.667156  31.754347   79.330002  69.800003  59.860001   \n",
       " 2010-01-08  49.791527  44.487976  31.828608   79.470001  69.519997  60.000000   \n",
       " ...               ...        ...        ...         ...        ...        ...   \n",
       " 2012-12-24  75.283806  59.964218  24.443899  108.629997  86.919998  41.720001   \n",
       " 2012-12-26  75.166008  60.067711  24.420458  108.459999  87.070000  41.680000   \n",
       " 2012-12-27  75.207596  59.922821  24.385302  108.519997  86.860001  41.619999   \n",
       " 2012-12-28  73.773018  58.708630  24.150946  106.449997  85.099998  41.220001   \n",
       " 2012-12-31  74.944244  59.708958  24.397026  108.139999  86.550003  41.639999   \n",
       " \n",
       " Attributes        High                               Low             \\\n",
       " Symbols            CVX        XOM         BP         CVX        XOM   \n",
       " Date                                                                  \n",
       " 2010-01-04   79.199997  69.260002  59.450001   78.160004  68.190002   \n",
       " 2010-01-05   79.620003  69.449997  59.900002   78.720001  68.800003   \n",
       " 2010-01-06   80.000000  70.599998  59.919998   79.190002  69.339996   \n",
       " 2010-01-07   79.699997  70.059998  60.000000   78.970001  69.419998   \n",
       " 2010-01-08   79.470001  69.750000  60.060001   78.889999  69.220001   \n",
       " ...                ...        ...        ...         ...        ...   \n",
       " 2012-12-24  109.389999  87.320000  41.990002  108.480003  86.800003   \n",
       " 2012-12-26  109.269997  87.680000  41.980000  108.209999  86.570000   \n",
       " 2012-12-27  108.860001  87.239998  41.849998  107.269997  85.750000   \n",
       " 2012-12-28  107.779999  86.290001  41.450001  106.300003  85.070000   \n",
       " 2012-12-31  108.230003  86.660004  41.740002  105.750000  84.699997   \n",
       " \n",
       " Attributes                   Open                            Volume  \\\n",
       " Symbols            BP         CVX        XOM         BP         CVX   \n",
       " Date                                                                  \n",
       " 2010-01-04  59.080002   78.199997  68.720001  59.299999  10173800.0   \n",
       " 2010-01-05  59.310001   79.220001  69.190002  59.650002  10593700.0   \n",
       " 2010-01-06  59.340000   79.440002  69.449997  59.520000  11014600.0   \n",
       " 2010-01-07  59.689999   79.360001  69.900002  59.919998   9626900.0   \n",
       " 2010-01-08  59.669998   79.120003  69.690002  59.790001   5624300.0   \n",
       " ...               ...         ...        ...        ...         ...   \n",
       " 2012-12-24  41.660000  109.300003  87.129997  41.880001   2284400.0   \n",
       " 2012-12-26  41.639999  109.099998  87.209999  41.779999   4094300.0   \n",
       " 2012-12-27  41.279999  108.459999  87.050003  41.810001   5525700.0   \n",
       " 2012-12-28  41.139999  107.680000  86.099998  41.189999   5277100.0   \n",
       " 2012-12-31  41.009998  105.750000  85.040001  41.240002   6554000.0   \n",
       " \n",
       " Attributes                         \n",
       " Symbols            XOM         BP  \n",
       " Date                               \n",
       " 2010-01-04  27809100.0  3956100.0  \n",
       " 2010-01-05  30174700.0  4109600.0  \n",
       " 2010-01-06  35044700.0  6227900.0  \n",
       " 2010-01-07  27192100.0  4431300.0  \n",
       " 2010-01-08  24891800.0  3786100.0  \n",
       " ...                ...        ...  \n",
       " 2012-12-24   6385200.0  2415200.0  \n",
       " 2012-12-26  10737800.0  2819800.0  \n",
       " 2012-12-27  14258500.0  4664200.0  \n",
       " 2012-12-28  13358700.0  4196000.0  \n",
       " 2012-12-31  19810800.0  6353800.0  \n",
       " \n",
       " [754 rows x 18 columns],\n",
       " ['Adj Close'])"
      ]
     },
     "execution_count": 36,
     "metadata": {},
     "output_type": "execute_result"
    }
   ],
   "source": [
    "prices"
   ]
  },
  {
   "cell_type": "code",
   "execution_count": 38,
   "id": "78789fbb",
   "metadata": {},
   "outputs": [],
   "source": [
    "volume=web.get_data_yahoo(['CVX','XOM','BP'],start=datetime.datetime(2010,1,1),end=datetime.datetime(2013,1,1)),['Volume']"
   ]
  },
  {
   "cell_type": "code",
   "execution_count": 59,
   "id": "3894588d",
   "metadata": {},
   "outputs": [
    {
     "data": {
      "text/plain": [
       "(Attributes  Adj Close                             Close                        \\\n",
       " Symbols           CVX        XOM         BP         CVX        XOM         BP   \n",
       " Date                                                                            \n",
       " 2010-01-04  49.534622  44.251213  31.377703   79.059998  69.150002  59.150002   \n",
       " 2010-01-05  49.885502  44.423977  31.600512   79.620003  69.419998  59.570000   \n",
       " 2010-01-06  49.891777  44.807941  31.764948   79.629997  70.019997  59.880001   \n",
       " 2010-01-07  49.703796  44.667160  31.754349   79.330002  69.800003  59.860001   \n",
       " 2010-01-08  49.791523  44.487976  31.828606   79.470001  69.519997  60.000000   \n",
       " ...               ...        ...        ...         ...        ...        ...   \n",
       " 2012-12-24  75.283829  59.964218  24.443892  108.629997  86.919998  41.720001   \n",
       " 2012-12-26  75.166031  60.067684  24.420458  108.459999  87.070000  41.680000   \n",
       " 2012-12-27  75.207573  59.922817  24.385305  108.519997  86.860001  41.619999   \n",
       " 2012-12-28  73.773026  58.708641  24.150946  106.449997  85.099998  41.220001   \n",
       " 2012-12-31  74.944252  59.708984  24.397028  108.139999  86.550003  41.639999   \n",
       " \n",
       " Attributes        High                               Low             \\\n",
       " Symbols            CVX        XOM         BP         CVX        XOM   \n",
       " Date                                                                  \n",
       " 2010-01-04   79.199997  69.260002  59.450001   78.160004  68.190002   \n",
       " 2010-01-05   79.620003  69.449997  59.900002   78.720001  68.800003   \n",
       " 2010-01-06   80.000000  70.599998  59.919998   79.190002  69.339996   \n",
       " 2010-01-07   79.699997  70.059998  60.000000   78.970001  69.419998   \n",
       " 2010-01-08   79.470001  69.750000  60.060001   78.889999  69.220001   \n",
       " ...                ...        ...        ...         ...        ...   \n",
       " 2012-12-24  109.389999  87.320000  41.990002  108.480003  86.800003   \n",
       " 2012-12-26  109.269997  87.680000  41.980000  108.209999  86.570000   \n",
       " 2012-12-27  108.860001  87.239998  41.849998  107.269997  85.750000   \n",
       " 2012-12-28  107.779999  86.290001  41.450001  106.300003  85.070000   \n",
       " 2012-12-31  108.230003  86.660004  41.740002  105.750000  84.699997   \n",
       " \n",
       " Attributes                   Open                            Volume  \\\n",
       " Symbols            BP         CVX        XOM         BP         CVX   \n",
       " Date                                                                  \n",
       " 2010-01-04  59.080002   78.199997  68.720001  59.299999  10173800.0   \n",
       " 2010-01-05  59.310001   79.220001  69.190002  59.650002  10593700.0   \n",
       " 2010-01-06  59.340000   79.440002  69.449997  59.520000  11014600.0   \n",
       " 2010-01-07  59.689999   79.360001  69.900002  59.919998   9626900.0   \n",
       " 2010-01-08  59.669998   79.120003  69.690002  59.790001   5624300.0   \n",
       " ...               ...         ...        ...        ...         ...   \n",
       " 2012-12-24  41.660000  109.300003  87.129997  41.880001   2284400.0   \n",
       " 2012-12-26  41.639999  109.099998  87.209999  41.779999   4094300.0   \n",
       " 2012-12-27  41.279999  108.459999  87.050003  41.810001   5525700.0   \n",
       " 2012-12-28  41.139999  107.680000  86.099998  41.189999   5277100.0   \n",
       " 2012-12-31  41.009998  105.750000  85.040001  41.240002   6554000.0   \n",
       " \n",
       " Attributes                         \n",
       " Symbols            XOM         BP  \n",
       " Date                               \n",
       " 2010-01-04  27809100.0  3956100.0  \n",
       " 2010-01-05  30174700.0  4109600.0  \n",
       " 2010-01-06  35044700.0  6227900.0  \n",
       " 2010-01-07  27192100.0  4431300.0  \n",
       " 2010-01-08  24891800.0  3786100.0  \n",
       " ...                ...        ...  \n",
       " 2012-12-24   6385200.0  2415200.0  \n",
       " 2012-12-26  10737800.0  2819800.0  \n",
       " 2012-12-27  14258500.0  4664200.0  \n",
       " 2012-12-28  13358700.0  4196000.0  \n",
       " 2012-12-31  19810800.0  6353800.0  \n",
       " \n",
       " [754 rows x 18 columns],\n",
       " ['Volume'])"
      ]
     },
     "execution_count": 59,
     "metadata": {},
     "output_type": "execute_result"
    }
   ],
   "source": [
    "volume"
   ]
  },
  {
   "cell_type": "code",
   "execution_count": 60,
   "id": "b74d7474",
   "metadata": {},
   "outputs": [
    {
     "ename": "AttributeError",
     "evalue": "'tuple' object has no attribute 'pct_change'",
     "output_type": "error",
     "traceback": [
      "\u001b[0;31m---------------------------------------------------------------------------\u001b[0m",
      "\u001b[0;31mAttributeError\u001b[0m                            Traceback (most recent call last)",
      "\u001b[0;32m<ipython-input-60-665affc775e5>\u001b[0m in \u001b[0;36m<module>\u001b[0;34m\u001b[0m\n\u001b[0;32m----> 1\u001b[0;31m \u001b[0mrets\u001b[0m \u001b[0;34m=\u001b[0m\u001b[0mprices\u001b[0m\u001b[0;34m.\u001b[0m\u001b[0mpct_change\u001b[0m\u001b[0;34m(\u001b[0m\u001b[0;34m)\u001b[0m\u001b[0;34m\u001b[0m\u001b[0;34m\u001b[0m\u001b[0m\n\u001b[0m",
      "\u001b[0;31mAttributeError\u001b[0m: 'tuple' object has no attribute 'pct_change'"
     ]
    }
   ],
   "source": [
    "rets =prices.pct_change()"
   ]
  },
  {
   "cell_type": "code",
   "execution_count": 62,
   "id": "2322e1c8",
   "metadata": {},
   "outputs": [],
   "source": [
    "%matplotlib inline\n"
   ]
  },
  {
   "cell_type": "code",
   "execution_count": 63,
   "id": "142292bf",
   "metadata": {},
   "outputs": [
    {
     "ename": "AttributeError",
     "evalue": "'tuple' object has no attribute 'plot'",
     "output_type": "error",
     "traceback": [
      "\u001b[0;31m---------------------------------------------------------------------------\u001b[0m",
      "\u001b[0;31mAttributeError\u001b[0m                            Traceback (most recent call last)",
      "\u001b[0;32m<ipython-input-63-d6a293bcfe96>\u001b[0m in \u001b[0;36m<module>\u001b[0;34m\u001b[0m\n\u001b[0;32m----> 1\u001b[0;31m \u001b[0mprices\u001b[0m\u001b[0;34m.\u001b[0m\u001b[0mplot\u001b[0m\u001b[0;34m(\u001b[0m\u001b[0;34m)\u001b[0m\u001b[0;34m\u001b[0m\u001b[0;34m\u001b[0m\u001b[0m\n\u001b[0m",
      "\u001b[0;31mAttributeError\u001b[0m: 'tuple' object has no attribute 'plot'"
     ]
    }
   ],
   "source": [
    "prices.plot()"
   ]
  },
  {
   "cell_type": "code",
   "execution_count": null,
   "id": "aac1eea3",
   "metadata": {},
   "outputs": [],
   "source": []
  },
  {
   "cell_type": "code",
   "execution_count": null,
   "id": "46ab1a67",
   "metadata": {},
   "outputs": [],
   "source": []
  },
  {
   "cell_type": "code",
   "execution_count": null,
   "id": "137d8bec",
   "metadata": {},
   "outputs": [],
   "source": []
  },
  {
   "cell_type": "code",
   "execution_count": null,
   "id": "2be90410",
   "metadata": {},
   "outputs": [],
   "source": []
  },
  {
   "cell_type": "code",
   "execution_count": null,
   "id": "0ff0274d",
   "metadata": {},
   "outputs": [],
   "source": []
  },
  {
   "cell_type": "code",
   "execution_count": null,
   "id": "ca2cb6b3",
   "metadata": {},
   "outputs": [],
   "source": []
  },
  {
   "cell_type": "code",
   "execution_count": null,
   "id": "bbbba975",
   "metadata": {},
   "outputs": [],
   "source": []
  }
 ],
 "metadata": {
  "kernelspec": {
   "display_name": "Python 3",
   "language": "python",
   "name": "python3"
  },
  "language_info": {
   "codemirror_mode": {
    "name": "ipython",
    "version": 3
   },
   "file_extension": ".py",
   "mimetype": "text/x-python",
   "name": "python",
   "nbconvert_exporter": "python",
   "pygments_lexer": "ipython3",
   "version": "3.8.8"
  }
 },
 "nbformat": 4,
 "nbformat_minor": 5
}
