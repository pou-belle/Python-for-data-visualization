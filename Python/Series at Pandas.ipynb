{
 "cells": [
  {
   "cell_type": "code",
   "execution_count": 2,
   "id": "85acaad9",
   "metadata": {},
   "outputs": [],
   "source": [
    "import numpy as np \n",
    "import pandas as pd \n",
    "from pandas import Series,DataFrame"
   ]
  },
  {
   "cell_type": "code",
   "execution_count": 3,
   "id": "e8013fa5",
   "metadata": {},
   "outputs": [
    {
     "data": {
      "text/plain": [
       "0     3\n",
       "1     6\n",
       "2     9\n",
       "3    12\n",
       "dtype: int64"
      ]
     },
     "execution_count": 3,
     "metadata": {},
     "output_type": "execute_result"
    }
   ],
   "source": [
    "obj=Series([3,6,9,12])\n",
    "\n",
    "obj"
   ]
  },
  {
   "cell_type": "code",
   "execution_count": 4,
   "id": "ec322494",
   "metadata": {},
   "outputs": [
    {
     "data": {
      "text/plain": [
       "array([ 3,  6,  9, 12])"
      ]
     },
     "execution_count": 4,
     "metadata": {},
     "output_type": "execute_result"
    }
   ],
   "source": [
    "obj.values"
   ]
  },
  {
   "cell_type": "code",
   "execution_count": 6,
   "id": "f4f908e3",
   "metadata": {},
   "outputs": [
    {
     "data": {
      "text/plain": [
       "RangeIndex(start=0, stop=4, step=1)"
      ]
     },
     "execution_count": 6,
     "metadata": {},
     "output_type": "execute_result"
    }
   ],
   "source": [
    "obj.index"
   ]
  },
  {
   "cell_type": "code",
   "execution_count": 7,
   "id": "7b5159b2",
   "metadata": {},
   "outputs": [],
   "source": [
    "#WW2 casualties from wikipedia"
   ]
  },
  {
   "cell_type": "code",
   "execution_count": 8,
   "id": "b8afe676",
   "metadata": {},
   "outputs": [
    {
     "data": {
      "text/plain": [
       "USSR       8700000\n",
       "GERMANY    4300000\n",
       "CHINA      3000000\n",
       "JAPAN      2100000\n",
       "USA         400000\n",
       "dtype: int64"
      ]
     },
     "execution_count": 8,
     "metadata": {},
     "output_type": "execute_result"
    }
   ],
   "source": [
    "ww2_cas=Series([8700000,4300000,3000000,2100000,400000],index=['USSR','GERMANY','CHINA','JAPAN','USA'])\n",
    "ww2_cas"
   ]
  },
  {
   "cell_type": "code",
   "execution_count": 9,
   "id": "86f7a7b8",
   "metadata": {},
   "outputs": [
    {
     "data": {
      "text/plain": [
       "400000"
      ]
     },
     "execution_count": 9,
     "metadata": {},
     "output_type": "execute_result"
    }
   ],
   "source": [
    "ww2_cas['USA']"
   ]
  },
  {
   "cell_type": "code",
   "execution_count": 10,
   "id": "6bdaf0e9",
   "metadata": {},
   "outputs": [],
   "source": [
    "  #CHECK CASUALITES>4m"
   ]
  },
  {
   "cell_type": "code",
   "execution_count": 11,
   "id": "e3a5b432",
   "metadata": {},
   "outputs": [
    {
     "data": {
      "text/plain": [
       "USSR       8700000\n",
       "GERMANY    4300000\n",
       "dtype: int64"
      ]
     },
     "execution_count": 11,
     "metadata": {},
     "output_type": "execute_result"
    }
   ],
   "source": [
    "ww2_cas[ww2_cas>4000000]"
   ]
  },
  {
   "cell_type": "code",
   "execution_count": 12,
   "id": "ffb95856",
   "metadata": {},
   "outputs": [
    {
     "data": {
      "text/plain": [
       "True"
      ]
     },
     "execution_count": 12,
     "metadata": {},
     "output_type": "execute_result"
    }
   ],
   "source": [
    "'USSR'in ww2_cas"
   ]
  },
  {
   "cell_type": "code",
   "execution_count": 13,
   "id": "f257c326",
   "metadata": {},
   "outputs": [
    {
     "data": {
      "text/plain": [
       "{'USSR': 8700000,\n",
       " 'GERMANY': 4300000,\n",
       " 'CHINA': 3000000,\n",
       " 'JAPAN': 2100000,\n",
       " 'USA': 400000}"
      ]
     },
     "execution_count": 13,
     "metadata": {},
     "output_type": "execute_result"
    }
   ],
   "source": [
    "ww2_dict=ww2_cas.to_dict()\n",
    "\n",
    "ww2_dict"
   ]
  },
  {
   "cell_type": "code",
   "execution_count": 14,
   "id": "d0a48c66",
   "metadata": {},
   "outputs": [
    {
     "data": {
      "text/plain": [
       "USSR       8700000\n",
       "GERMANY    4300000\n",
       "CHINA      3000000\n",
       "JAPAN      2100000\n",
       "USA         400000\n",
       "dtype: int64"
      ]
     },
     "execution_count": 14,
     "metadata": {},
     "output_type": "execute_result"
    }
   ],
   "source": [
    "ww2_series=Series(ww2_dict)\n",
    "ww2_series"
   ]
  },
  {
   "cell_type": "code",
   "execution_count": 15,
   "id": "10ee53b4",
   "metadata": {},
   "outputs": [],
   "source": [
    "countries=['CHINA','GERMANY','JAPAN','USA','USSR','ARGENTINA']"
   ]
  },
  {
   "cell_type": "code",
   "execution_count": 18,
   "id": "288c4dd4",
   "metadata": {},
   "outputs": [
    {
     "data": {
      "text/plain": [
       "CHINA        3000000.0\n",
       "GERMANY      4300000.0\n",
       "JAPAN        2100000.0\n",
       "USA           400000.0\n",
       "USSR         8700000.0\n",
       "ARGENTINA          NaN\n",
       "dtype: float64"
      ]
     },
     "execution_count": 18,
     "metadata": {},
     "output_type": "execute_result"
    }
   ],
   "source": [
    "obj2=Series(ww2_dict,index=countries)\n",
    "\n",
    "obj2"
   ]
  },
  {
   "cell_type": "code",
   "execution_count": 19,
   "id": "071ea1be",
   "metadata": {},
   "outputs": [
    {
     "data": {
      "text/plain": [
       "CHINA        False\n",
       "GERMANY      False\n",
       "JAPAN        False\n",
       "USA          False\n",
       "USSR         False\n",
       "ARGENTINA     True\n",
       "dtype: bool"
      ]
     },
     "execution_count": 19,
     "metadata": {},
     "output_type": "execute_result"
    }
   ],
   "source": [
    "pd.isnull(obj2)"
   ]
  },
  {
   "cell_type": "code",
   "execution_count": 20,
   "id": "54a2cbf6",
   "metadata": {},
   "outputs": [
    {
     "data": {
      "text/plain": [
       "CHINA         True\n",
       "GERMANY       True\n",
       "JAPAN         True\n",
       "USA           True\n",
       "USSR          True\n",
       "ARGENTINA    False\n",
       "dtype: bool"
      ]
     },
     "execution_count": 20,
     "metadata": {},
     "output_type": "execute_result"
    }
   ],
   "source": [
    "pd.notnull(obj2)"
   ]
  },
  {
   "cell_type": "code",
   "execution_count": 21,
   "id": "d3df0db4",
   "metadata": {},
   "outputs": [
    {
     "data": {
      "text/plain": [
       "USSR       8700000\n",
       "GERMANY    4300000\n",
       "CHINA      3000000\n",
       "JAPAN      2100000\n",
       "USA         400000\n",
       "dtype: int64"
      ]
     },
     "execution_count": 21,
     "metadata": {},
     "output_type": "execute_result"
    }
   ],
   "source": [
    "ww2_series"
   ]
  },
  {
   "cell_type": "code",
   "execution_count": 22,
   "id": "67b1cfe9",
   "metadata": {},
   "outputs": [
    {
     "data": {
      "text/plain": [
       "CHINA        3000000.0\n",
       "GERMANY      4300000.0\n",
       "JAPAN        2100000.0\n",
       "USA           400000.0\n",
       "USSR         8700000.0\n",
       "ARGENTINA          NaN\n",
       "dtype: float64"
      ]
     },
     "execution_count": 22,
     "metadata": {},
     "output_type": "execute_result"
    }
   ],
   "source": [
    "obj2"
   ]
  },
  {
   "cell_type": "code",
   "execution_count": 23,
   "id": "02b01717",
   "metadata": {},
   "outputs": [
    {
     "data": {
      "text/plain": [
       "ARGENTINA           NaN\n",
       "CHINA         6000000.0\n",
       "GERMANY       8600000.0\n",
       "JAPAN         4200000.0\n",
       "USA            800000.0\n",
       "USSR         17400000.0\n",
       "dtype: float64"
      ]
     },
     "execution_count": 23,
     "metadata": {},
     "output_type": "execute_result"
    }
   ],
   "source": [
    "ww2_series + obj2"
   ]
  },
  {
   "cell_type": "code",
   "execution_count": 24,
   "id": "7d14593a",
   "metadata": {},
   "outputs": [],
   "source": [
    "obj2.name=\"WW2 CASUALTIES\""
   ]
  },
  {
   "cell_type": "code",
   "execution_count": 25,
   "id": "e9876ae8",
   "metadata": {},
   "outputs": [
    {
     "data": {
      "text/plain": [
       "'WW2 CASUALTIES'"
      ]
     },
     "execution_count": 25,
     "metadata": {},
     "output_type": "execute_result"
    }
   ],
   "source": [
    "obj2.name"
   ]
  },
  {
   "cell_type": "code",
   "execution_count": 26,
   "id": "6d9169d8",
   "metadata": {},
   "outputs": [
    {
     "data": {
      "text/plain": [
       "CHINA        3000000.0\n",
       "GERMANY      4300000.0\n",
       "JAPAN        2100000.0\n",
       "USA           400000.0\n",
       "USSR         8700000.0\n",
       "ARGENTINA          NaN\n",
       "Name: WW2 CASUALTIES, dtype: float64"
      ]
     },
     "execution_count": 26,
     "metadata": {},
     "output_type": "execute_result"
    }
   ],
   "source": [
    "obj2"
   ]
  },
  {
   "cell_type": "code",
   "execution_count": 29,
   "id": "1f00c311",
   "metadata": {},
   "outputs": [
    {
     "data": {
      "text/plain": [
       "COUNTRIES\n",
       "CHINA        3000000.0\n",
       "GERMANY      4300000.0\n",
       "JAPAN        2100000.0\n",
       "USA           400000.0\n",
       "USSR         8700000.0\n",
       "ARGENTINA          NaN\n",
       "Name: WW2 CASUALTIES, dtype: float64"
      ]
     },
     "execution_count": 29,
     "metadata": {},
     "output_type": "execute_result"
    }
   ],
   "source": [
    "obj2.index.name ='COUNTRIES'\n",
    "\n",
    "obj2\n"
   ]
  },
  {
   "cell_type": "code",
   "execution_count": null,
   "id": "7bd3fe82",
   "metadata": {},
   "outputs": [],
   "source": []
  },
  {
   "cell_type": "code",
   "execution_count": null,
   "id": "a2640259",
   "metadata": {},
   "outputs": [],
   "source": []
  },
  {
   "cell_type": "code",
   "execution_count": null,
   "id": "7ac67221",
   "metadata": {},
   "outputs": [],
   "source": []
  },
  {
   "cell_type": "code",
   "execution_count": null,
   "id": "5338e82c",
   "metadata": {},
   "outputs": [],
   "source": []
  },
  {
   "cell_type": "code",
   "execution_count": null,
   "id": "eef4512f",
   "metadata": {},
   "outputs": [],
   "source": []
  },
  {
   "cell_type": "code",
   "execution_count": null,
   "id": "6ce9f5e5",
   "metadata": {},
   "outputs": [],
   "source": []
  }
 ],
 "metadata": {
  "kernelspec": {
   "display_name": "Python 3",
   "language": "python",
   "name": "python3"
  },
  "language_info": {
   "codemirror_mode": {
    "name": "ipython",
    "version": 3
   },
   "file_extension": ".py",
   "mimetype": "text/x-python",
   "name": "python",
   "nbconvert_exporter": "python",
   "pygments_lexer": "ipython3",
   "version": "3.8.8"
  }
 },
 "nbformat": 4,
 "nbformat_minor": 5
}
